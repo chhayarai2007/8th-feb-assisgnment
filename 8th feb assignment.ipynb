{
 "cells": [
  {
   "cell_type": "markdown",
   "id": "c0eb2e27-ca28-458b-8b78-c8f7ae55811d",
   "metadata": {},
   "source": [
    "Q1. What is Abstraction in OOps? Explain with an example. \n",
    "\n",
    "ans:-Abstraction is the process of hiding the internal details of an application from the outer world.\n",
    "Abstraction is used to describe things in simple terms.\n",
    "It's used to create a boundary between the application and the client programs"
   ]
  },
  {
   "cell_type": "markdown",
   "id": "de616b25-2bb3-44e3-b09a-383e852da32f",
   "metadata": {},
   "source": [
    "Q2. Differentiate between Abstraction and Encapsulation. Explain with an example.\n",
    "\n",
    "ans:-Abstraction is a design level process and it is used to reduce the complexity at the designing stage of a project. Encapsulation is an implementation level process, \n",
    "and it is used to provide privacy and maintain control over the transparency of data at the implementation stage of a project."
   ]
  },
  {
   "cell_type": "markdown",
   "id": "8a752676-da00-4410-896c-c297cebb7466",
   "metadata": {},
   "source": [
    "3. What is abc module in python? Why is it used? \n",
    "ans:-The 'abc' module in Python library provides the infrastructure for defining custom abstract base classes.\n",
    "'abc' works by marking methods of the base class as abstract."
   ]
  },
  {
   "cell_type": "markdown",
   "id": "b452736f-c65f-429b-9865-f4d12ccf49b8",
   "metadata": {},
   "source": [
    "Q4. How can we achieve data abstraction? \n",
    "\n",
    "ans:-In Python, abstraction can be achieved by having/using abstract classes and methods in our programs. "
   ]
  },
  {
   "cell_type": "markdown",
   "id": "8dd54c3b-c0cf-4e72-bcb7-1ce54fae09c0",
   "metadata": {},
   "source": [
    "Q5. Can we create an instance of an abstract class? Explain your answer. \n",
    "ans;-No, we can't create an object of an abstract class. But we can create a reference variable of an abstract class.\n",
    "The reference variable is used to refer to the objects of derived classes (subclasses of abstract class)"
   ]
  }
 ],
 "metadata": {
  "kernelspec": {
   "display_name": "Python 3 (ipykernel)",
   "language": "python",
   "name": "python3"
  },
  "language_info": {
   "codemirror_mode": {
    "name": "ipython",
    "version": 3
   },
   "file_extension": ".py",
   "mimetype": "text/x-python",
   "name": "python",
   "nbconvert_exporter": "python",
   "pygments_lexer": "ipython3",
   "version": "3.10.8"
  }
 },
 "nbformat": 4,
 "nbformat_minor": 5
}
